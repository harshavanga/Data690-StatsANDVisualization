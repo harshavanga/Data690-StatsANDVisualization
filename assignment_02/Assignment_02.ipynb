{
  "nbformat": 4,
  "nbformat_minor": 0,
  "metadata": {
    "colab": {
      "provenance": [],
      "collapsed_sections": [],
      "authorship_tag": "ABX9TyMOfwpLnU9neMdA8xr4J+8i",
      "include_colab_link": true
    },
    "kernelspec": {
      "name": "python3",
      "display_name": "Python 3"
    },
    "language_info": {
      "name": "python"
    }
  },
  "cells": [
    {
      "cell_type": "markdown",
      "metadata": {
        "id": "view-in-github",
        "colab_type": "text"
      },
      "source": [
        "<a href=\"https://colab.research.google.com/github/harshavanga/Data690-StatsANDVisualization/blob/main/assignment_02/Assignment_02.ipynb\" target=\"_parent\"><img src=\"https://colab.research.google.com/assets/colab-badge.svg\" alt=\"Open In Colab\"/></a>"
      ]
    },
    {
      "cell_type": "markdown",
      "source": [
        "#Assignment 02\n"
      ],
      "metadata": {
        "id": "z12YPsQpXGDK"
      }
    },
    {
      "cell_type": "markdown",
      "source": [
        "#Requirements\n",
        "###Prompt a user to enter 10 integers.\n",
        "###If the user enters anything other than integers, remind her that only integers are allowed and let her retry.\n",
        "###Note: You need to detect if the user makes a mistake and let the user retry without exiting the program. The previously entered valid inputs should be kept and not lost.\n",
        "###Don't allow the user to enter more than 10 or less than 10 integers.\n",
        "###Display the 10 integers back to the user at the end.\n"
      ],
      "metadata": {
        "id": "V1qPcFqEXRB3"
      }
    },
    {
      "cell_type": "code",
      "execution_count": null,
      "metadata": {
        "colab": {
          "base_uri": "https://localhost:8080/"
        },
        "id": "iihdBZ4utz3E",
        "outputId": "4f1818d9-619a-4f37-f846-1826c1c32fdd"
      },
      "outputs": [
        {
          "output_type": "stream",
          "name": "stdout",
          "text": [
            "Enter a number: 5\n",
            "Enter a number: 6\n",
            "Enter a number: 4\n",
            "Enter a number: 9\n",
            "Enter a number: \n",
            "Invalid entry, try another\n",
            "Enter a number: \n",
            "Invalid entry, try another\n",
            "Enter a number: 5\n",
            "Enter a number: 3\n",
            "Enter a number: 1\n",
            "Enter a number: 2\n",
            "Enter a number: 7\n",
            "Enter a number: 8\n",
            "Total numbers entered: 10\n",
            "Numbers entered: [5, 6, 4, 9, 5, 3, 1, 2, 7, 8]\n"
          ]
        }
      ],
      "source": [
        "inputList = []\n",
        "i = 0\n",
        "while i<10:\n",
        "  try:\n",
        "    #taking only integers as input\n",
        "    x = int(input(\"Enter a number: \"))\n",
        "    inputList.append(x)\n",
        "    i+=1 \n",
        "  except ValueError:\n",
        "    #error if not an integer\n",
        "    print(\"Invalid entry, try another\")    \n",
        "print('Total numbers entered:', len(inputList))\n",
        "print('Numbers entered:', inputList)"
      ]
    },
    {
      "cell_type": "markdown",
      "source": [
        "#Calculate the following statistics from the 10 integers entered and display the results back to the user:\n",
        "###Minimum\n",
        "###Maximum\n",
        "###Range\n",
        "###Mean\n",
        "###Variance\n",
        "###Standard Deviation"
      ],
      "metadata": {
        "id": "TJEoVUIlRoyd"
      }
    },
    {
      "cell_type": "code",
      "source": [
        "#considering first element of the list as minimum\n",
        "minimum=inputList[0]\n",
        "#comparing the elements to find the minimum value\n",
        "for i in range(10):\n",
        "  if inputList[i]<minimum:\n",
        "    minimum=inputList[i]\n",
        "print(\"Minimum number is: \",minimum)  "
      ],
      "metadata": {
        "colab": {
          "base_uri": "https://localhost:8080/"
        },
        "id": "WOTbLvtLxW7q",
        "outputId": "22a3be9e-fdb8-4994-ef40-65efb143fd55"
      },
      "execution_count": null,
      "outputs": [
        {
          "output_type": "stream",
          "name": "stdout",
          "text": [
            "Minimum number is:  1\n"
          ]
        }
      ]
    },
    {
      "cell_type": "code",
      "source": [
        "#considering first element of the list as maximum\n",
        "maximum=inputList[0]\n",
        "#comparing the elements to find the maximum value\n",
        "for i in range(10):\n",
        "  if inputList[i]>maximum:\n",
        "    maximum=inputList[i]\n",
        "print(\"Maximum number is: \",maximum)  "
      ],
      "metadata": {
        "colab": {
          "base_uri": "https://localhost:8080/"
        },
        "id": "ZB7BbsfR-FEE",
        "outputId": "e997dc2e-af53-4820-f6da-ef96a1c22534"
      },
      "execution_count": null,
      "outputs": [
        {
          "output_type": "stream",
          "name": "stdout",
          "text": [
            "Maximum number is:  9\n"
          ]
        }
      ]
    },
    {
      "cell_type": "code",
      "source": [
        "#finding range to the given numbers\n",
        "rng=maximum-minimum\n",
        "print(\"Range for the given numbers is: \",rng)"
      ],
      "metadata": {
        "colab": {
          "base_uri": "https://localhost:8080/"
        },
        "id": "Hp7AzCycEVtc",
        "outputId": "808aaa22-e0c2-4dc7-95ac-d65b4df5e1ef"
      },
      "execution_count": null,
      "outputs": [
        {
          "output_type": "stream",
          "name": "stdout",
          "text": [
            "Range for the given numbers is:  8\n"
          ]
        }
      ]
    },
    {
      "cell_type": "code",
      "source": [
        "total=0\n",
        "#finding mean for the given numbers\n",
        "for i in range(10):\n",
        "  total=total+inputList[i]\n",
        "avg=total/10  \n",
        "print(\"Average of the given numbers is: \",avg)"
      ],
      "metadata": {
        "colab": {
          "base_uri": "https://localhost:8080/"
        },
        "id": "wzqsfXZkA5eC",
        "outputId": "884a0c1c-dc6f-4ee8-b58c-1ea738487e13"
      },
      "execution_count": null,
      "outputs": [
        {
          "output_type": "stream",
          "name": "stdout",
          "text": [
            "Average of the given numbers is:  5.0\n"
          ]
        }
      ]
    },
    {
      "cell_type": "code",
      "source": [
        "tot=0\n",
        "#variance for the given numbers\n",
        "for i in range(10):\n",
        "  tot=tot+(inputList[i]-avg)**2\n",
        "var=tot/9\n",
        "print(\"Variance of the given numbers is: \",var)  "
      ],
      "metadata": {
        "colab": {
          "base_uri": "https://localhost:8080/"
        },
        "id": "bDYZowT8BwbK",
        "outputId": "2e1d3e1b-2f73-41ab-9b9f-c43383efd87b"
      },
      "execution_count": null,
      "outputs": [
        {
          "output_type": "stream",
          "name": "stdout",
          "text": [
            "Variance of the given numbers is:  6.666666666666667\n"
          ]
        }
      ]
    },
    {
      "cell_type": "code",
      "source": [
        "#finding Standard Deviation using variance\n",
        "sd=var**0.5\n",
        "print(\"Standard Deviation for the given numbers is: \",sd)"
      ],
      "metadata": {
        "colab": {
          "base_uri": "https://localhost:8080/"
        },
        "id": "ofXkm7k3EUW7",
        "outputId": "2556b765-b89b-4a6f-8f3c-cfd1b0312d53"
      },
      "execution_count": null,
      "outputs": [
        {
          "output_type": "stream",
          "name": "stdout",
          "text": [
            "Standard Deviation for the given numbers is:  2.581988897471611\n"
          ]
        }
      ]
    },
    {
      "cell_type": "code",
      "source": [],
      "metadata": {
        "id": "QmiWGGcBKLmQ"
      },
      "execution_count": null,
      "outputs": []
    }
  ]
}