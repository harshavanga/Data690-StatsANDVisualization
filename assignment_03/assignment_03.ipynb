{
  "nbformat": 4,
  "nbformat_minor": 0,
  "metadata": {
    "colab": {
      "provenance": [],
      "collapsed_sections": [],
      "authorship_tag": "ABX9TyNNKzBwY5xHEbhj18gXA0Zy",
      "include_colab_link": true
    },
    "kernelspec": {
      "name": "python3",
      "display_name": "Python 3"
    },
    "language_info": {
      "name": "python"
    }
  },
  "cells": [
    {
      "cell_type": "markdown",
      "metadata": {
        "id": "view-in-github",
        "colab_type": "text"
      },
      "source": [
        "<a href=\"https://colab.research.google.com/github/harshavanga/Data690-StatsANDVisualization/blob/main/assignment_03/assignment_03.ipynb\" target=\"_parent\"><img src=\"https://colab.research.google.com/assets/colab-badge.svg\" alt=\"Open In Colab\"/></a>"
      ]
    },
    {
      "cell_type": "markdown",
      "source": [
        "# Assignment 3"
      ],
      "metadata": {
        "id": "LpLEcNlO_tl2"
      }
    },
    {
      "cell_type": "markdown",
      "source": [
        "## **Answer 1.**\n",
        "> **Print them in a 10 by 10 matrix neatly arranged (one space between each number):**\n",
        "\n",
        "> We generate random 100 numbers using nested loops, one loop for rows and another for columns."
      ],
      "metadata": {
        "id": "0f4pzAfB8s7O"
      }
    },
    {
      "cell_type": "code",
      "source": [
        "import random \n",
        "\n",
        "arr = [[0 for i in range(10)] for j in range(10)]\n",
        "\n",
        "for i in range(10):\n",
        "  for j in range(10):\n",
        "    arr[i][j] = random.randint(0,9)\n",
        "    print(arr[i][j], end = \" \")\n",
        "    \n",
        "  print(\"\\n\")"
      ],
      "metadata": {
        "colab": {
          "base_uri": "https://localhost:8080/"
        },
        "id": "qFIrU1olxebW",
        "outputId": "6d34a847-12e7-43d7-c2df-74327c703c2a"
      },
      "execution_count": 7,
      "outputs": [
        {
          "output_type": "stream",
          "name": "stdout",
          "text": [
            "0 6 1 9 7 6 2 0 2 6 \n",
            "\n",
            "9 9 8 1 6 5 9 6 0 1 \n",
            "\n",
            "4 8 6 1 3 0 2 8 1 1 \n",
            "\n",
            "5 7 2 6 6 3 0 6 2 7 \n",
            "\n",
            "7 0 7 9 9 6 3 1 4 6 \n",
            "\n",
            "7 1 3 5 7 6 5 9 9 2 \n",
            "\n",
            "1 7 4 6 2 8 5 2 5 6 \n",
            "\n",
            "5 2 9 4 8 0 3 2 0 8 \n",
            "\n",
            "4 3 1 2 8 2 7 3 4 5 \n",
            "\n",
            "4 7 3 6 6 5 2 2 9 9 \n",
            "\n"
          ]
        }
      ]
    },
    {
      "cell_type": "code",
      "source": [
        "arr"
      ],
      "metadata": {
        "colab": {
          "base_uri": "https://localhost:8080/"
        },
        "id": "Tm5Zfwwf7FAl",
        "outputId": "346f0c72-47db-4c78-ab20-2ea5b486042b"
      },
      "execution_count": 11,
      "outputs": [
        {
          "output_type": "execute_result",
          "data": {
            "text/plain": [
              "[[0, 6, 1, 9, 7, 6, 2, 0, 2, 6],\n",
              " [9, 9, 8, 1, 6, 5, 9, 6, 0, 1],\n",
              " [4, 8, 6, 1, 3, 0, 2, 8, 1, 1],\n",
              " [5, 7, 2, 6, 6, 3, 0, 6, 2, 7],\n",
              " [7, 0, 7, 9, 9, 6, 3, 1, 4, 6],\n",
              " [7, 1, 3, 5, 7, 6, 5, 9, 9, 2],\n",
              " [1, 7, 4, 6, 2, 8, 5, 2, 5, 6],\n",
              " [5, 2, 9, 4, 8, 0, 3, 2, 0, 8],\n",
              " [4, 3, 1, 2, 8, 2, 7, 3, 4, 5],\n",
              " [4, 7, 3, 6, 6, 5, 2, 2, 9, 9]]"
            ]
          },
          "metadata": {},
          "execution_count": 11
        }
      ]
    },
    {
      "cell_type": "markdown",
      "source": [
        "# **Answer 2.**\n",
        ">**If the random number is an odd number, print \"@\" instead.**\n",
        "\n",
        "> Here we are checking if the number is odd by using the modulo function. If the number is identified as odd, we're printing '@'."
      ],
      "metadata": {
        "id": "eZZedmaQ9_HD"
      }
    },
    {
      "cell_type": "code",
      "source": [
        "for i in range(10):\n",
        "  print(\"\\n\")\n",
        "  for j in range(10):\n",
        "    if (arr[i][j])%2==1:\n",
        "      print(\"@\", end = \" \")\n",
        "    else:\n",
        "      print(arr[i][j], end = \" \")\n",
        " \n"
      ],
      "metadata": {
        "colab": {
          "base_uri": "https://localhost:8080/"
        },
        "id": "n5Hj9-U0zJkK",
        "outputId": "8b1b6baf-6b8c-4d47-e9ab-8b77b9650056"
      },
      "execution_count": 12,
      "outputs": [
        {
          "output_type": "stream",
          "name": "stdout",
          "text": [
            "\n",
            "\n",
            "0 6 @ @ @ 6 2 0 2 6 \n",
            "\n",
            "@ @ 8 @ 6 @ @ 6 0 @ \n",
            "\n",
            "4 8 6 @ @ 0 2 8 @ @ \n",
            "\n",
            "@ @ 2 6 6 @ 0 6 2 @ \n",
            "\n",
            "@ 0 @ @ @ 6 @ @ 4 6 \n",
            "\n",
            "@ @ @ @ @ 6 @ @ @ 2 \n",
            "\n",
            "@ @ 4 6 2 8 @ 2 @ 6 \n",
            "\n",
            "@ 2 @ 4 8 0 @ 2 0 8 \n",
            "\n",
            "4 @ @ 2 8 2 @ @ 4 @ \n",
            "\n",
            "4 @ @ 6 6 @ 2 2 @ @ "
          ]
        }
      ]
    },
    {
      "cell_type": "markdown",
      "source": [
        "# **Answer 3.**\n",
        "> **Calculate and Print the total of each row (use \"*\" to separate the total from the numbers):**\n",
        "\n",
        "> Here we declare a temp sum variable which calculates the sum of elements in the row and also display it following an asterisk for each row."
      ],
      "metadata": {
        "id": "TeiysE3m-IcO"
      }
    },
    {
      "cell_type": "code",
      "source": [
        "for i in range(10):\n",
        "  sum=0\n",
        "  print(\"\\n\")\n",
        "  for j in range(10):\n",
        "    print(arr[i][j], end = \" \")\n",
        "    sum=sum+arr[i][j]\n",
        "  print(\"*\",sum)"
      ],
      "metadata": {
        "colab": {
          "base_uri": "https://localhost:8080/"
        },
        "id": "x0AVxRHD17pV",
        "outputId": "b47798e1-da07-4d43-ff62-ef29b45ef28b"
      },
      "execution_count": 21,
      "outputs": [
        {
          "output_type": "stream",
          "name": "stdout",
          "text": [
            "\n",
            "\n",
            "0 6 1 9 7 6 2 0 2 6 * 39\n",
            "\n",
            "\n",
            "9 9 8 1 6 5 9 6 0 1 * 54\n",
            "\n",
            "\n",
            "4 8 6 1 3 0 2 8 1 1 * 34\n",
            "\n",
            "\n",
            "5 7 2 6 6 3 0 6 2 7 * 44\n",
            "\n",
            "\n",
            "7 0 7 9 9 6 3 1 4 6 * 52\n",
            "\n",
            "\n",
            "7 1 3 5 7 6 5 9 9 2 * 54\n",
            "\n",
            "\n",
            "1 7 4 6 2 8 5 2 5 6 * 46\n",
            "\n",
            "\n",
            "5 2 9 4 8 0 3 2 0 8 * 41\n",
            "\n",
            "\n",
            "4 3 1 2 8 2 7 3 4 5 * 39\n",
            "\n",
            "\n",
            "4 7 3 6 6 5 2 2 9 9 * 53\n"
          ]
        }
      ]
    },
    {
      "cell_type": "markdown",
      "source": [
        "# **Answer 4.**\n",
        "> **Surround the matrix with asterisks (*):**\n",
        "\n",
        "> We are just printing a row of asterisks at the beginning and end of logic used."
      ],
      "metadata": {
        "id": "qVnpO3J7-Mo5"
      }
    },
    {
      "cell_type": "code",
      "source": [
        "print(\"***********************\")\n",
        "for i in range(10):\n",
        "  print(\"\\n\")\n",
        "  print(\"*\", end = \" \")\n",
        "  for j in range(10):\n",
        "    print(arr[i][j], end = \" \")\n",
        "  print(\"*\")  \n",
        "\n",
        "print(\"\\n***********************\")  "
      ],
      "metadata": {
        "colab": {
          "base_uri": "https://localhost:8080/"
        },
        "id": "fWuD9PkBRk5u",
        "outputId": "56ddb19e-1299-4e0e-dc19-283ce7c1b94f"
      },
      "execution_count": 56,
      "outputs": [
        {
          "output_type": "stream",
          "name": "stdout",
          "text": [
            "***********************\n",
            "\n",
            "\n",
            "* 0 6 1 9 7 6 2 0 2 6 *\n",
            "\n",
            "\n",
            "* 9 9 8 1 6 5 9 6 0 1 *\n",
            "\n",
            "\n",
            "* 4 8 6 1 3 0 2 8 1 1 *\n",
            "\n",
            "\n",
            "* 5 7 2 6 6 3 0 6 2 7 *\n",
            "\n",
            "\n",
            "* 7 0 7 9 9 6 3 1 4 6 *\n",
            "\n",
            "\n",
            "* 7 1 3 5 7 6 5 9 9 2 *\n",
            "\n",
            "\n",
            "* 1 7 4 6 2 8 5 2 5 6 *\n",
            "\n",
            "\n",
            "* 5 2 9 4 8 0 3 2 0 8 *\n",
            "\n",
            "\n",
            "* 4 3 1 2 8 2 7 3 4 5 *\n",
            "\n",
            "\n",
            "* 4 7 3 6 6 5 2 2 9 9 *\n",
            "\n",
            "***********************\n"
          ]
        }
      ]
    },
    {
      "cell_type": "markdown",
      "source": [
        "# **Answer 5.**\n",
        "> **Calculate and Print the total of each row and column:**\n",
        "\n",
        "> Here we defined a variable colsum which is a list of all the elements present in the specific column. Then we are calculating the colsum values by repetitive adding the array elements."
      ],
      "metadata": {
        "id": "BY00VXux-SpA"
      }
    },
    {
      "cell_type": "code",
      "source": [
        "colsum = [0 for i in range(10)]\n",
        "for i in range(10):\n",
        "  sum = 0\n",
        "  print(\"\\n\")\n",
        "  for j in range(10):\n",
        "    colsum[j] += arr[i][j]\n",
        "    print(arr[i][j], end = \"  \")\n",
        "    sum=sum+arr[i][j]\n",
        "  print(\"*\",sum)\n",
        "print(\"\\n\")\n",
        "for i in range(10):\n",
        "  print('*', end = \"  \")\n",
        "print(\"\\n\")\n",
        "for j in range(10):\n",
        "  print(colsum[j], end = \" \")"
      ],
      "metadata": {
        "colab": {
          "base_uri": "https://localhost:8080/"
        },
        "id": "bjH4pVtJ8kX4",
        "outputId": "91615914-5e34-4ebc-9e0b-510da544680d"
      },
      "execution_count": 41,
      "outputs": [
        {
          "output_type": "stream",
          "name": "stdout",
          "text": [
            "\n",
            "\n",
            "0  6  1  9  7  6  2  0  2  6  * 39\n",
            "\n",
            "\n",
            "9  9  8  1  6  5  9  6  0  1  * 54\n",
            "\n",
            "\n",
            "4  8  6  1  3  0  2  8  1  1  * 34\n",
            "\n",
            "\n",
            "5  7  2  6  6  3  0  6  2  7  * 44\n",
            "\n",
            "\n",
            "7  0  7  9  9  6  3  1  4  6  * 52\n",
            "\n",
            "\n",
            "7  1  3  5  7  6  5  9  9  2  * 54\n",
            "\n",
            "\n",
            "1  7  4  6  2  8  5  2  5  6  * 46\n",
            "\n",
            "\n",
            "5  2  9  4  8  0  3  2  0  8  * 41\n",
            "\n",
            "\n",
            "4  3  1  2  8  2  7  3  4  5  * 39\n",
            "\n",
            "\n",
            "4  7  3  6  6  5  2  2  9  9  * 53\n",
            "\n",
            "\n",
            "*  *  *  *  *  *  *  *  *  *  \n",
            "\n",
            "46 50 44 49 62 41 38 39 36 51 "
          ]
        }
      ]
    },
    {
      "cell_type": "code",
      "source": [],
      "metadata": {
        "id": "-mUHBzYSHSqj"
      },
      "execution_count": null,
      "outputs": []
    }
  ]
}